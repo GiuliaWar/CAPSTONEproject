{
 "cells": [
  {
   "cell_type": "code",
   "execution_count": 4,
   "id": "1ef66007-cd77-45fb-8449-fe559921f0f8",
   "metadata": {
    "scrolled": true
   },
   "outputs": [
    {
     "name": "stdout",
     "output_type": "stream",
     "text": [
      "<class 'pandas.core.frame.DataFrame'>\n",
      "RangeIndex: 92 entries, 0 to 91\n",
      "Data columns (total 10 columns):\n",
      " #   Column                               Non-Null Count  Dtype  \n",
      "---  ------                               --------------  -----  \n",
      " 0   Date/Time - Peak Brightness (UT)     92 non-null     object \n",
      " 1   Latitude (Deg)                       92 non-null     object \n",
      " 2   Longitude (Deg)                      92 non-null     object \n",
      " 3   Altitude (km)                        68 non-null     float64\n",
      " 4   Velocity (km/s)                      7 non-null      float64\n",
      " 5   Velocity Components (km/s): vx       52 non-null     float64\n",
      " 6   Velocity Components (km/s): vy       52 non-null     float64\n",
      " 7   Velocity Components (km/s): vz       52 non-null     float64\n",
      " 8   Total Radiated Energy (J)            92 non-null     int64  \n",
      " 9   Calculated Total Impact Energy (kt)  92 non-null     float64\n",
      "dtypes: float64(6), int64(1), object(3)\n",
      "memory usage: 7.3+ KB\n"
     ]
    },
    {
     "data": {
      "text/plain": [
       "(None,\n",
       "   Date/Time - Peak Brightness (UT) Latitude (Deg) Longitude (Deg)  \\\n",
       " 0           11/21/2009 08:53:00 PM          22.0S           29.2E   \n",
       " 1           01/09/2015 10:41:11 AM           2.0N           28.8E   \n",
       " 2           05/16/2014 12:42:48 PM          44.2S          176.2W   \n",
       " 3           08/23/2014 06:29:41 AM          61.7S          132.6E   \n",
       " 4           12/12/2014 06:48:11 AM          33.5N          144.9E   \n",
       " \n",
       "    Altitude (km)  Velocity (km/s)  Velocity Components (km/s): vx  \\\n",
       " 0           38.0             32.1                             3.0   \n",
       " 1           36.0              NaN                           -10.7   \n",
       " 2           44.0              NaN                            14.4   \n",
       " 3           22.2             16.2                            -2.3   \n",
       " 4           26.3              NaN                            11.5   \n",
       " \n",
       "    Velocity Components (km/s): vy  Velocity Components (km/s): vz  \\\n",
       " 0                           -17.0                           -27.0   \n",
       " 1                            -7.6                            11.6   \n",
       " 2                             4.6                             6.5   \n",
       " 3                             5.7                            16.5   \n",
       " 4                            -2.8                            -2.2   \n",
       " \n",
       "    Total Radiated Energy (J)  Calculated Total Impact Energy (kt)  \n",
       " 0             10000000000000                                18.00  \n",
       " 1               139000000000                                 0.41  \n",
       " 2               309000000000                                 0.82  \n",
       " 3              3820000000000                                 7.60  \n",
       " 4                33000000000                                 0.11  )"
      ]
     },
     "execution_count": 4,
     "metadata": {},
     "output_type": "execute_result"
    }
   ],
   "source": [
    "import pandas as pd\n",
    "\n",
    "# Carica il dataset\n",
    "file_path = 'Fireball_And_Bolide_Reports.csv'\n",
    "data = pd.read_csv(file_path)\n",
    "\n",
    "# Mostrare le info base del dataset\n",
    "data_info = data.info()\n",
    "data_head = data.head()\n",
    "\n",
    "data_info, data_head"
   ]
  },
  {
   "cell_type": "code",
   "execution_count": 16,
   "id": "d0ba34d3-7117-4a39-a831-95fdda7dea16",
   "metadata": {
    "scrolled": true
   },
   "outputs": [
    {
     "name": "stdout",
     "output_type": "stream",
     "text": [
      "<class 'pandas.core.frame.DataFrame'>\n",
      "Index: 19 entries, 1 to 89\n",
      "Data columns (total 10 columns):\n",
      " #   Column                               Non-Null Count  Dtype  \n",
      "---  ------                               --------------  -----  \n",
      " 0   Date/Time - Peak Brightness (UT)     19 non-null     object \n",
      " 1   Latitude (Deg)                       19 non-null     float64\n",
      " 2   Longitude (Deg)                      19 non-null     float64\n",
      " 3   Altitude (km)                        19 non-null     float64\n",
      " 4   Velocity (km/s)                      19 non-null     float64\n",
      " 5   Velocity Components (km/s): vx       19 non-null     float64\n",
      " 6   Velocity Components (km/s): vy       19 non-null     float64\n",
      " 7   Velocity Components (km/s): vz       19 non-null     float64\n",
      " 8   Total Radiated Energy (J)            19 non-null     int64  \n",
      " 9   Calculated Total Impact Energy (kt)  19 non-null     float64\n",
      "dtypes: float64(8), int64(1), object(1)\n",
      "memory usage: 1.6+ KB\n",
      "None\n",
      "   Date/Time - Peak Brightness (UT)  Latitude (Deg)  Longitude (Deg)  \\\n",
      "1            01/09/2015 10:41:11 AM             2.0             28.8   \n",
      "4            12/12/2014 06:48:11 AM            33.5            144.9   \n",
      "12           11/04/2014 08:13:30 PM            43.1            115.8   \n",
      "14           12/25/2010 11:24:00 PM            38.0            158.0   \n",
      "15           01/07/2015 01:05:59 AM            45.7             26.9   \n",
      "\n",
      "    Altitude (km)  Velocity (km/s)  Velocity Components (km/s): vx  \\\n",
      "1            36.0             18.1                           -10.7   \n",
      "4            26.3             18.1                            11.5   \n",
      "12           22.2             18.1                            -7.2   \n",
      "14           26.0             18.1                            18.0   \n",
      "15           45.5             18.1                           -35.4   \n",
      "\n",
      "    Velocity Components (km/s): vy  Velocity Components (km/s): vz  \\\n",
      "1                             -7.6                            11.6   \n",
      "4                             -2.8                            -2.2   \n",
      "12                           -12.1                            -7.7   \n",
      "14                            -2.0                            -4.0   \n",
      "15                             1.8                            -4.4   \n",
      "\n",
      "    Total Radiated Energy (J)  Calculated Total Impact Energy (kt)  \n",
      "1                139000000000                                 0.41  \n",
      "4                 33000000000                                 0.11  \n",
      "12               156000000000                                 0.45  \n",
      "14             20000000000000                                33.00  \n",
      "15               136000000000                                 0.40  \n"
     ]
    },
    {
     "name": "stderr",
     "output_type": "stream",
     "text": [
      "C:\\Users\\user\\AppData\\Local\\Temp\\ipykernel_4800\\2971393124.py:22: SettingWithCopyWarning: \n",
      "A value is trying to be set on a copy of a slice from a DataFrame\n",
      "\n",
      "See the caveats in the documentation: https://pandas.pydata.org/pandas-docs/stable/user_guide/indexing.html#returning-a-view-versus-a-copy\n",
      "  data_cleaned['Altitude (km)'].fillna(data_cleaned['Altitude (km)'].median(), inplace=True)\n",
      "C:\\Users\\user\\AppData\\Local\\Temp\\ipykernel_4800\\2971393124.py:23: SettingWithCopyWarning: \n",
      "A value is trying to be set on a copy of a slice from a DataFrame\n",
      "\n",
      "See the caveats in the documentation: https://pandas.pydata.org/pandas-docs/stable/user_guide/indexing.html#returning-a-view-versus-a-copy\n",
      "  data_cleaned['Velocity (km/s)'].fillna(data_cleaned['Velocity (km/s)'].median(), inplace=True)\n",
      "C:\\Users\\user\\AppData\\Local\\Temp\\ipykernel_4800\\2971393124.py:24: SettingWithCopyWarning: \n",
      "A value is trying to be set on a copy of a slice from a DataFrame\n",
      "\n",
      "See the caveats in the documentation: https://pandas.pydata.org/pandas-docs/stable/user_guide/indexing.html#returning-a-view-versus-a-copy\n",
      "  data_cleaned['Velocity Components (km/s): vx'].fillna(data_cleaned['Velocity Components (km/s): vx'].median(), inplace=True)\n",
      "C:\\Users\\user\\AppData\\Local\\Temp\\ipykernel_4800\\2971393124.py:25: SettingWithCopyWarning: \n",
      "A value is trying to be set on a copy of a slice from a DataFrame\n",
      "\n",
      "See the caveats in the documentation: https://pandas.pydata.org/pandas-docs/stable/user_guide/indexing.html#returning-a-view-versus-a-copy\n",
      "  data_cleaned['Velocity Components (km/s): vy'].fillna(data_cleaned['Velocity Components (km/s): vy'].median(), inplace=True)\n",
      "C:\\Users\\user\\AppData\\Local\\Temp\\ipykernel_4800\\2971393124.py:26: SettingWithCopyWarning: \n",
      "A value is trying to be set on a copy of a slice from a DataFrame\n",
      "\n",
      "See the caveats in the documentation: https://pandas.pydata.org/pandas-docs/stable/user_guide/indexing.html#returning-a-view-versus-a-copy\n",
      "  data_cleaned['Velocity Components (km/s): vz'].fillna(data_cleaned['Velocity Components (km/s): vz'].median(), inplace=True)\n"
     ]
    }
   ],
   "source": [
    "\n",
    "# Funzione per convertire le coordinate e rimuovere i caratteri non numerici\n",
    "def convert_coordinate(coord):\n",
    "    if isinstance(coord, str):\n",
    "        if 'S' in coord:\n",
    "            return -float(coord.replace('S', ''))\n",
    "        if 'N' in coord:\n",
    "            return float(coord.replace('N', ''))\n",
    "        if 'W' in coord:\n",
    "            return -float(coord.replace('W', ''))\n",
    "        if 'E' in coord:\n",
    "            return float(coord.replace('E', ''))\n",
    "    return float(coord)\n",
    "\n",
    "# Conversione alle colonne di latitudine e longitudine\n",
    "data['Latitude (Deg)'] = data['Latitude (Deg)'].apply(convert_coordinate)\n",
    "data['Longitude (Deg)'] = data['Longitude (Deg)'].apply(convert_coordinate)\n",
    "\n",
    "# Rimosse righe con valori mancanti per lat e long\n",
    "data_cleaned = data.dropna(subset=['Latitude (Deg)', 'Longitude (Deg)'])\n",
    "\n",
    "# Imputazionevalori mancanti nelle altre colonne con la mediana\n",
    "data_cleaned['Altitude (km)'].fillna(data_cleaned['Altitude (km)'].median(), inplace=True)\n",
    "data_cleaned['Velocity (km/s)'].fillna(data_cleaned['Velocity (km/s)'].median(), inplace=True)\n",
    "data_cleaned['Velocity Components (km/s): vx'].fillna(data_cleaned['Velocity Components (km/s): vx'].median(), inplace=True)\n",
    "data_cleaned['Velocity Components (km/s): vy'].fillna(data_cleaned['Velocity Components (km/s): vy'].median(), inplace=True)\n",
    "data_cleaned['Velocity Components (km/s): vz'].fillna(data_cleaned['Velocity Components (km/s): vz'].median(), inplace=True)\n",
    "\n",
    "# Verifica pulizia dei dati\n",
    "print(data_cleaned.info())\n",
    "print(data_cleaned.head())\n"
   ]
  },
  {
   "cell_type": "code",
   "execution_count": 15,
   "id": "58bf3c29-e021-4ad0-abf7-b3694a6e7d9d",
   "metadata": {},
   "outputs": [
    {
     "data": {
      "text/plain": [
       "Date/Time - Peak Brightness (UT)        0\n",
       "Latitude (Deg)                         54\n",
       "Longitude (Deg)                        48\n",
       "Altitude (km)                          24\n",
       "Velocity (km/s)                        85\n",
       "Velocity Components (km/s): vx         40\n",
       "Velocity Components (km/s): vy         40\n",
       "Velocity Components (km/s): vz         40\n",
       "Total Radiated Energy (J)               0\n",
       "Calculated Total Impact Energy (kt)     0\n",
       "dtype: int64"
      ]
     },
     "execution_count": 15,
     "metadata": {},
     "output_type": "execute_result"
    }
   ],
   "source": [
    "# Sommario valori nulli\n",
    "missing_values_summary = data.isnull().sum()\n",
    "missing_values_summary"
   ]
  }
 ],
 "metadata": {
  "kernelspec": {
   "display_name": "Python 3 (ipykernel)",
   "language": "python",
   "name": "python3"
  },
  "language_info": {
   "codemirror_mode": {
    "name": "ipython",
    "version": 3
   },
   "file_extension": ".py",
   "mimetype": "text/x-python",
   "name": "python",
   "nbconvert_exporter": "python",
   "pygments_lexer": "ipython3",
   "version": "3.11.7"
  }
 },
 "nbformat": 4,
 "nbformat_minor": 5
}
